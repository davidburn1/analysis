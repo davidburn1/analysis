{
 "cells": [
  {
   "cell_type": "code",
   "execution_count": 1,
   "metadata": {},
   "outputs": [],
   "source": [
    "import sys\n",
    "sys.path.append('../../')\n",
    "from msgAnalysis.src.poms import nexus2dat"
   ]
  },
  {
   "cell_type": "code",
   "execution_count": 2,
   "metadata": {},
   "outputs": [
    {
     "name": "stdout",
     "output_type": "stream",
     "text": [
      "i10-585458.nxs\n",
      "i10-585454.nxs\n",
      "i10-585455.nxs\n",
      "i10-585456.nxs\n",
      "i10-585457.nxs\n",
      "i10-585459.nxs\n"
     ]
    }
   ],
   "source": [
    "nexusDirectory=\"./example_data/mh_data\"\n",
    "datDirectory=\"./example_data/exported_mh_data\"\n",
    "\n",
    "nexus2dat(nexusDirectory, datDirectory)"
   ]
  },
  {
   "cell_type": "code",
   "execution_count": null,
   "metadata": {},
   "outputs": [],
   "source": []
  }
 ],
 "metadata": {
  "kernelspec": {
   "display_name": "Python 3.8 [Conda DLS]",
   "language": "python",
   "name": "conda-env-Conda_DLS-python3.8"
  },
  "language_info": {
   "codemirror_mode": {
    "name": "ipython",
    "version": 3
   },
   "file_extension": ".py",
   "mimetype": "text/x-python",
   "name": "python",
   "nbconvert_exporter": "python",
   "pygments_lexer": "ipython3",
   "version": "3.8.0"
  }
 },
 "nbformat": 4,
 "nbformat_minor": 2
}
